{
 "cells": [
  {
   "cell_type": "code",
   "execution_count": 1,
   "metadata": {
    "collapsed": true
   },
   "outputs": [],
   "source": [
    "import numpy as np\n",
    "import datetime\n",
    "import matplotlib.pyplot as plt\n",
    "import pandas as pd"
   ]
  },
  {
   "cell_type": "code",
   "execution_count": 2,
   "metadata": {
    "collapsed": true
   },
   "outputs": [],
   "source": [
    "def readdart(fname, t1, t2, t_landfall=None):\n",
    "    \"\"\"\n",
    "    Read DART data from file fname.\n",
    "    t1, t2 = upper and lower bounds on times to return t and eta.\n",
    "    t_quake = time of earthquake, a datetime object, if known.\n",
    "\n",
    "    Returns:\n",
    "    t = array of datetime objects for time series,\n",
    "    eta = surface elevation at each time,\n",
    "    t_sec = times in seconds since t_quake (or since t1 if t_quake==None).\n",
    "    \"\"\"\n",
    "    columns = ['Time', 'newlevel']\n",
    "    heights = []\n",
    "    t = []\n",
    "    t_sec = []\n",
    "    data = pd.read_csv(fname, header=None, names=columns)\n",
    "\n",
    "    for x in data.Time:\n",
    "        if (x != 'Time'):\n",
    "            datetime_object = datetime.datetime.strptime(x, '%x  %H:%M')\n",
    "            t.append(datetime_object)\n",
    "\n",
    "    for y in data.newlevel:\n",
    "        if (y != 'newlevel'):\n",
    "            heights.append(float(y))   \n",
    "             \n",
    "    if t_landfall is not None:\n",
    "        t0 = t_landfall\n",
    "    else:\n",
    "        t0 = t1\n",
    "\n",
    "    # print t0\n",
    "    for m in t:\n",
    "        n = m - t0\n",
    "        t_sec.append(n.total_seconds())\n",
    "\n",
    "    # # Compute seconds past t0 for each element of t:\n",
    "    t = np.array(t)\n",
    "    heights = np.array(heights)\n",
    "    t_sec = np.array(t_sec)\n",
    "\n",
    "    return t, t_sec, heights"
   ]
  },
  {
   "cell_type": "code",
   "execution_count": 3,
   "metadata": {
    "collapsed": true
   },
   "outputs": [],
   "source": [
    "def plot_datetime(t, heights, fig=None, axes=None):\n",
    "    \"\"\"\n",
    "    Plot depth eta vs. time t where t is an array of datetime objects.\n",
    "    fig is a matplotlib.figure.Figure object or an integer.\n",
    "    ax is a matplotlib.axis object.\n",
    "    Improves the formatting of tick labels to make them readable.\n",
    "    \"\"\"\n",
    "    from matplotlib.dates import DateFormatter\n",
    "    formatter = DateFormatter('%x  %H:%M')\n",
    "    if fig==None:\n",
    "        fig = plt.figure()\n",
    "    elif type(fig) is int:\n",
    "        fig = plt.figure()\n",
    "    if axes==None:\n",
    "        fig = plt.figure()\n",
    "    axes.xaxis.set_major_formatter(formatter)\n",
    "    plt.xticks(rotation=25)\n",
    "\n",
    "    fig.autofmt_xdate()\n",
    "    plt.plot(t,heights)\n",
    "    return fig, axes\n"
   ]
  },
  {
   "cell_type": "code",
   "execution_count": 4,
   "metadata": {
    "collapsed": true
   },
   "outputs": [],
   "source": [
    "def plotdart(fname, t_landfall):\n",
    "    t1 = t_landfall - datetime.timedelta(0, 36*3600)\n",
    "    t2 = t_landfall + datetime.timedelta(0, 24*3600)\n",
    "    t, t_sec, heights = readdart(fname, t1, t2, t_landfall)\n",
    "    plot_datetime(t, heights)\n",
    "    return t,t_sec,heights"
   ]
  },
  {
   "cell_type": "code",
   "execution_count": 5,
   "metadata": {
    "collapsed": true
   },
   "outputs": [],
   "source": [
    "def fit_tide_poly(t, eta, degree, t1fit, t2fit, t1out, t2out):\n",
    "    \"\"\"\n",
    "    Fit a polynomial of the specified degree to data in the range t1fit <= t <= t2fit.\n",
    "    Returns the coefficents c of c[0] + c[1]*t + ...\n",
    "    and detided data eta_notide over the range t1out <= t <= t2out.\n",
    "    \"\"\"\n",
    "    from numpy.linalg import lstsq\n",
    "    \n",
    "    # select subset of t, eta where fit is done:\n",
    "    mask = ((t>=t1fit) & (t<=t2fit)) \n",
    "    tfit = t[mask]\n",
    "    # print type(tfit)\n",
    "    etafit = eta[mask]\n",
    "    \n",
    "    \n",
    "    # select subset of t, eta for output:\n",
    "    mask = ((t>=t1out) & (t<=t2out)) \n",
    "    tout = t[mask]\n",
    "    etaout = eta[mask]\n",
    "\n",
    "    \n",
    "    # Scale data so matrix is well-conditioned:\n",
    "    scale_factor = tfit[0]\n",
    "    tfit = tfit/scale_factor\n",
    "    tout = tout/scale_factor\n",
    "    \n",
    "    # Use Newton polynomial basis using these points:\n",
    "    tpts = np.linspace(tfit.min(),tfit.max(),degree+1)\n",
    "    \n",
    "    # Form A matrix Afit for least squares fit and\n",
    "    # Aout for applying fit to output data:\n",
    "    Afit = np.ones((len(tfit),degree+1))\n",
    "    Aout = np.ones((len(tout),degree+1))\n",
    "    for j in range(1,degree+1):\n",
    "        Afit[:,j] = Afit[:,j-1] * (tfit - tpts[j])\n",
    "        Aout[:,j] = Aout[:,j-1] * (tout - tpts[j])\n",
    "        \n",
    "    # Performs least squares fit:\n",
    "    c = lstsq(Afit,etafit)[0]\n",
    "    \n",
    "    #import pdb; pdb.set_trace()\n",
    "    \n",
    "    # evaluate polynomial at the output times:\n",
    "    etaoutfit = np.dot(Aout,c)\n",
    "    \n",
    "    # evaluate polynomial at the fit times:\n",
    "    etafit2 = np.dot(Afit,c)\n",
    "    \n",
    "    # Compute de-tided values by subtracting fit values from raw data:\n",
    "    tout = tout*scale_factor\n",
    "    tfit = tfit*scale_factor\n",
    "    t_notide = tout/24/3600.0\n",
    "    eta_notide =  etaout - etaoutfit\n",
    "    \n",
    "    # plot fit and de-tided data:\n",
    "    plt.figure(70,figsize=(8,8))\n",
    "    plt.clf()\n",
    "    plt.subplot(211)\n",
    "    plt.plot(tfit,etafit,'b')\n",
    "    plt.plot(tout,etaout,'g')\n",
    "    plt.plot(tfit,etafit2,'k')\n",
    "    plt.plot(tout,etaoutfit,'r')\n",
    "    plt.legend(['raw data over [t1fit, t2fit]', 'raw data over [t1out, t2out]', \\\n",
    "            'fit to data over [t1fit, t2fit]','fit over [t1out, t2out]'], \\\n",
    "             loc=0)\n",
    "    plt.ymin = etafit.min() - 0.5*(etafit.max()-etafit.min())\n",
    "    plt.ymax = etafit.max() + 0.5*(etafit.max()-etafit.min())\n",
    "    plt.ylim([plt.ymin,plt.ymax])\n",
    "    plt.subplot(212)\n",
    "    plt.plot(t_notide, eta_notide,'k')\n",
    "    plt.title('de-tided data over [t1out, t2out]')\n",
    "        \n",
    "    return c, t_notide, eta_notide"
   ]
  },
  {
   "cell_type": "code",
   "execution_count": null,
   "metadata": {
    "collapsed": true
   },
   "outputs": [],
   "source": []
  }
 ],
 "metadata": {
  "kernelspec": {
   "display_name": "Python 2",
   "language": "python",
   "name": "python2"
  },
  "language_info": {
   "codemirror_mode": {
    "name": "ipython",
    "version": 2
   },
   "file_extension": ".py",
   "mimetype": "text/x-python",
   "name": "python",
   "nbconvert_exporter": "python",
   "pygments_lexer": "ipython2",
   "version": "2.7.12"
  }
 },
 "nbformat": 4,
 "nbformat_minor": 2
}
