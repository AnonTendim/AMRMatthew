{
 "cells": [
  {
   "cell_type": "code",
   "execution_count": 1,
   "metadata": {
    "collapsed": true
   },
   "outputs": [],
   "source": [
    "import numpy as np\n",
    "import matplotlib.pyplot as plt\n",
    "import scipy.fftpack\n",
    "import pandas as pd\n",
    "import os\n",
    "from datetime import datetime"
   ]
  },
  {
   "cell_type": "code",
   "execution_count": 3,
   "metadata": {},
   "outputs": [],
   "source": [
    "fname = 'data/FB6Prediction.csv'\n",
    "columns = ['Time', 'Level']\n",
    "data = pd.read_csv(fname, header=None, names = columns)\n",
    "\n",
    "# # Number of samplepoints\n",
    "# sample spacing\n",
    "T = 360\n",
    "t = []\n",
    "heights = []\n",
    "N = 0\n",
    "\n",
    "for x in data.Time:\n",
    "    if (x != 'Time'):\n",
    "        datetime_object = datetime.strptime(x, '%x  %H:%M')\n",
    "        t.append((datetime_object-datetime(2016,9,16,0,0)).total_seconds())\n",
    "        N = N+1\n",
    "\n",
    "for y in data.Level:\n",
    "    if (y != 'Level'):\n",
    "        heights.append(float(y))"
   ]
  },
  {
   "cell_type": "code",
   "execution_count": 4,
   "metadata": {},
   "outputs": [
    {
     "name": "stdout",
     "output_type": "stream",
     "text": [
      "[  0.00000000e+00   3.61784029e-07   7.23568059e-07 ...,   1.38816532e-03\n",
      "   1.38852710e-03   1.38888889e-03]\n"
     ]
    },
    {
     "name": "stderr",
     "output_type": "stream",
     "text": [
      "/usr/local/lib/python2.7/site-packages/ipykernel_launcher.py:6: RuntimeWarning: divide by zero encountered in divide\n",
      "  \n"
     ]
    },
    {
     "data": {
      "image/png": "[encoded data removed]",
      "text/plain": [
       "<matplotlib.figure.Figure at 0x11311a310>"
      ]
     },
     "metadata": {},
     "output_type": "display_data"
    }
   ],
   "source": [
    "yf = scipy.fftpack.fft(heights)\n",
    "xf = np.linspace(0.0, 1.0/(2.0*T), N/2)\n",
    "print xf\n",
    "\n",
    "fig, ax = plt.subplots()\n",
    "ax.plot(1/xf, 2.0/N * np.abs(yf[:N//2]))\n",
    "plt.show()"
   ]
  },
  {
   "cell_type": "code",
   "execution_count": null,
   "metadata": {
    "collapsed": true
   },
   "outputs": [],
   "source": []
  }
 ],
 "metadata": {
  "kernelspec": {
   "display_name": "Python 2",
   "language": "python",
   "name": "python2"
  },
  "language_info": {
   "codemirror_mode": {
    "name": "ipython",
    "version": 2
   },
   "file_extension": ".py",
   "mimetype": "text/x-python",
   "name": "python",
   "nbconvert_exporter": "python",
   "pygments_lexer": "ipython2",
   "version": "2.7.12"
  }
 },
 "nbformat": 4,
 "nbformat_minor": 2
}
