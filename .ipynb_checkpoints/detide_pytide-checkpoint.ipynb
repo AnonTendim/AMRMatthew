{
 "cells": [
  {
   "cell_type": "code",
   "execution_count": 7,
   "metadata": {
    "collapsed": true
   },
   "outputs": [],
   "source": [
    "from datetime import datetime\n",
    "from pytides.tide import Tide\n",
    "import numpy as np\n",
    "import matplotlib.pyplot as plt\n",
    "import pandas as pd\n",
    "import os"
   ]
  },
  {
   "cell_type": "code",
   "execution_count": 14,
   "metadata": {},
   "outputs": [],
   "source": [
    "fname = 'data/FernandinaBeach.csv'\n",
    "\n",
    "##Prepare our tide data\n",
    "station_id = 'Fernandina Beach'\n",
    "\n",
    "columns = ['time', 'data']\n",
    "heights = []\n",
    "t = []\n",
    "data = pd.read_csv(fname, header=None, names=columns)\n",
    "\n",
    "for x in data.time:\n",
    "    if (x != 'time'):\n",
    "        datetime_object = datetime.strptime(x, '%x  %H:%M')\n",
    "        t.append(datetime_object)\n",
    "\n",
    "for y in data.data:\n",
    "    if (y != 'data'):\n",
    "        heights.append(float(y))"
   ]
  },
  {
   "cell_type": "code",
   "execution_count": 23,
   "metadata": {},
   "outputs": [],
   "source": [
    "##Prepare a list of datetimes, each 6 minutes apart, for 10 days.\n",
    "prediction_t0 = datetime(2016,10,1,6,0)\n",
    "hours = 0.1*np.arange(10 * 24 * 10)\n",
    "times = Tide._times(prediction_t0, hours)\n",
    "\n",
    "##Fit the tidal data to the harmonic model using Pytides\n",
    "my_tide = Tide.decompose(heights, t)\n",
    "\n",
    "##Predict the tides using the Pytides model.\n",
    "my_prediction = my_tide.at(times)\n",
    "\n",
    "fnameOutput = 'data/outputPytide.csv'\n",
    "d = np.vstack([my_prediction]).T\n",
    "np.savetxt(fnameOutput,d)"
   ]
  },
  {
   "cell_type": "code",
   "execution_count": 25,
   "metadata": {},
   "outputs": [
    {
     "name": "stdout",
     "output_type": "stream",
     "text": [
      " prediction\n"
     ]
    },
    {
     "ename": "ValueError",
     "evalue": "could not convert string to float: prediction",
     "output_type": "error",
     "traceback": [
      "\u001b[0;31m---------------------------------------------------------------------------\u001b[0m",
      "\u001b[0;31mValueError\u001b[0m                                Traceback (most recent call last)",
      "\u001b[0;32m<ipython-input-25-43623837b83a>\u001b[0m in \u001b[0;36m<module>\u001b[0;34m()\u001b[0m\n\u001b[1;32m      9\u001b[0m     \u001b[0;32mif\u001b[0m \u001b[0;34m(\u001b[0m\u001b[0mx\u001b[0m \u001b[0;34m!=\u001b[0m \u001b[0;34m'prediction'\u001b[0m\u001b[0;34m)\u001b[0m\u001b[0;34m:\u001b[0m\u001b[0;34m\u001b[0m\u001b[0m\n\u001b[1;32m     10\u001b[0m         \u001b[0;32mprint\u001b[0m \u001b[0mx\u001b[0m\u001b[0;34m\u001b[0m\u001b[0m\n\u001b[0;32m---> 11\u001b[0;31m         \u001b[0mnoaa_predicted\u001b[0m\u001b[0;34m.\u001b[0m\u001b[0mappend\u001b[0m\u001b[0;34m(\u001b[0m\u001b[0mfloat\u001b[0m\u001b[0;34m(\u001b[0m\u001b[0mx\u001b[0m\u001b[0;34m)\u001b[0m\u001b[0;34m)\u001b[0m\u001b[0;34m\u001b[0m\u001b[0m\n\u001b[0m\u001b[1;32m     12\u001b[0m \u001b[0;32mfor\u001b[0m \u001b[0my\u001b[0m \u001b[0;32min\u001b[0m \u001b[0mresult\u001b[0m\u001b[0;34m.\u001b[0m\u001b[0mverified\u001b[0m\u001b[0;34m:\u001b[0m\u001b[0;34m\u001b[0m\u001b[0m\n\u001b[1;32m     13\u001b[0m     \u001b[0;32mif\u001b[0m \u001b[0;34m(\u001b[0m\u001b[0my\u001b[0m \u001b[0;34m!=\u001b[0m \u001b[0;34m'verified'\u001b[0m\u001b[0;34m)\u001b[0m\u001b[0;34m:\u001b[0m\u001b[0;34m\u001b[0m\u001b[0m\n",
      "\u001b[0;31mValueError\u001b[0m: could not convert string to float: prediction"
     ]
    }
   ],
   "source": [
    "##Prepare NOAA's results\n",
    "noaa_verified = []\n",
    "noaa_predicted = []\n",
    "\n",
    "column = ['time', 'prediction', 'verified']\n",
    "fname1 = 'data/FernandinaBeach_noaa.csv'\n",
    "result = pd.read_csv(fname1, header=None, names=column)\n",
    "for x in result.prediction:\n",
    "    if (x != 'prediction'):\n",
    "        print x\n",
    "        noaa_predicted.append(float(x))\n",
    "for y in result.verified:\n",
    "    if (y != 'verified'):\n",
    "        noaa_verified.append(float(y))\n",
    "\n",
    "#print noaa_predicted\n",
    "\n",
    "##Plot the results\n",
    "plt.plot(hours, my_prediction, label=\"Pytides\")\n",
    "plt.plot(hours, noaa_predicted, label=\"NOAA Prediction\")\n",
    "plt.plot(hours, noaa_verified, label=\"NOAA Verified\")\n",
    "plt.legend()\n",
    "plt.title('Comparison of Pytides and NOAA predictions for Station: ' + str(station_id))\n",
    "plt.xlabel('Hours since ' + str(prediction_t0) + '(GMT)')\n",
    "plt.ylabel('Metres')\n",
    "\n",
    "plt.show()"
   ]
  },
  {
   "cell_type": "code",
   "execution_count": null,
   "metadata": {
    "collapsed": true
   },
   "outputs": [],
   "source": []
  }
 ],
 "metadata": {
  "kernelspec": {
   "display_name": "Python 2",
   "language": "python",
   "name": "python2"
  },
  "language_info": {
   "codemirror_mode": {
    "name": "ipython",
    "version": 2
   },
   "file_extension": ".py",
   "mimetype": "text/x-python",
   "name": "python",
   "nbconvert_exporter": "python",
   "pygments_lexer": "ipython2",
   "version": "2.7.12"
  }
 },
 "nbformat": 4,
 "nbformat_minor": 2
}
